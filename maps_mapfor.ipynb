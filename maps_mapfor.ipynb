{
  "nbformat": 4,
  "nbformat_minor": 0,
  "metadata": {
    "colab": {
      "name": "Cópia de mapfor.ipynb",
      "provenance": []
    },
    "kernelspec": {
      "name": "python3",
      "display_name": "Python 3"
    },
    "widgets": {
      "application/vnd.jupyter.widget-state+json": {
        "0fd7e3f377d2403b86c175caaf9c2f8c": {
          "model_module": "@jupyter-widgets/controls",
          "model_name": "DropdownModel",
          "state": {
            "_options_labels": [
              "Administraçao educacional",
              "Formaçao de professor das séries iniciais do ensino fundamental",
              "Formaçao de professor de artes (educaçao artística)",
              "Formaçao de professor de artes (Educaçao artística)",
              "Formaçao de professor de artes visuais",
              "Formaçao de professor de biologia",
              "Formaçao de professor de ciências",
              "Formaçao de Professor de Ciências Humanas",
              "Formaçao de professor de computaçao (informática)",
              "Formaçao de professor de Computaçao (informática)",
              "Formaçao de professor de dança",
              "Formaçao de professor de disciplinas profissionais",
              "Formaçao de professor de educaçao especial",
              "Formaçao de professor de Educaçao especial",
              "Formaçao de professor de educaçao física",
              "Formaçao de professor de Educaçao física",
              "Formaçao de professor de educaçao religiosa",
              "Formaçao de professor de enfermagem",
              "Formaçao de professor de filosofia",
              "Formaçao de professor de física",
              "Formaçao de professor de geografia",
              "Formaçao de professor de história",
              "Formaçao de professor de letras",
              "Formaçao de professor de língua/literatura estrangeira moderna",
              "Formaçao de professor de língua/literatura vernácula e língua estrangeira moderna",
              "Formaçao de professor de língua/literatura vernácula (português)",
              "Formaçao de professor de matemática",
              "Formaçao de professor de música",
              "Formaçao de professor de química",
              "Formaçao de professor de sociologia",
              "Formaçao de professor de teatro (artes cênicas)",
              "Formaçao de professor do ensino técnico",
              "Formaçao de professor para a educaçao básica",
              "Formaçao de professor para a Educaçao básica",
              "Pedagogia",
              "Tecnologia da educaçao"
            ],
            "_view_name": "DropdownView",
            "style": "IPY_MODEL_67fe39b97b094f79823c46167c20be1d",
            "_dom_classes": [],
            "description": "",
            "_model_name": "DropdownModel",
            "index": 20,
            "_view_module": "@jupyter-widgets/controls",
            "_model_module_version": "1.5.0",
            "_view_count": null,
            "disabled": false,
            "_view_module_version": "1.5.0",
            "description_tooltip": null,
            "_model_module": "@jupyter-widgets/controls",
            "layout": "IPY_MODEL_fa1733a4089449ff8ba55f80670d4fd0"
          }
        },
        "67fe39b97b094f79823c46167c20be1d": {
          "model_module": "@jupyter-widgets/controls",
          "model_name": "DescriptionStyleModel",
          "state": {
            "_view_name": "StyleView",
            "_model_name": "DescriptionStyleModel",
            "description_width": "",
            "_view_module": "@jupyter-widgets/base",
            "_model_module_version": "1.5.0",
            "_view_count": null,
            "_view_module_version": "1.2.0",
            "_model_module": "@jupyter-widgets/controls"
          }
        },
        "fa1733a4089449ff8ba55f80670d4fd0": {
          "model_module": "@jupyter-widgets/base",
          "model_name": "LayoutModel",
          "state": {
            "_view_name": "LayoutView",
            "grid_template_rows": null,
            "right": null,
            "justify_content": null,
            "_view_module": "@jupyter-widgets/base",
            "overflow": null,
            "_model_module_version": "1.2.0",
            "_view_count": null,
            "flex_flow": null,
            "width": null,
            "min_width": null,
            "border": null,
            "align_items": null,
            "bottom": null,
            "_model_module": "@jupyter-widgets/base",
            "top": null,
            "grid_column": null,
            "overflow_y": null,
            "overflow_x": null,
            "grid_auto_flow": null,
            "grid_area": null,
            "grid_template_columns": null,
            "flex": null,
            "_model_name": "LayoutModel",
            "justify_items": null,
            "grid_row": null,
            "max_height": null,
            "align_content": null,
            "visibility": null,
            "align_self": null,
            "height": null,
            "min_height": null,
            "padding": null,
            "grid_auto_rows": null,
            "grid_gap": null,
            "max_width": null,
            "order": null,
            "_view_module_version": "1.2.0",
            "grid_template_areas": null,
            "object_position": null,
            "object_fit": null,
            "grid_auto_columns": null,
            "margin": null,
            "display": null,
            "left": null
          }
        },
        "f0bf49a1313e4c719dc2b505661a18a2": {
          "model_module": "@jupyter-widgets/controls",
          "model_name": "RadioButtonsModel",
          "state": {
            "_options_labels": [
              "Todas",
              "Municipais",
              "Estaduais"
            ],
            "_view_name": "RadioButtonsView",
            "style": "IPY_MODEL_7a81f3d0027e4c10915eba4c10c55b36",
            "_dom_classes": [],
            "description": "Escolas:",
            "_model_name": "RadioButtonsModel",
            "index": 0,
            "_view_module": "@jupyter-widgets/controls",
            "_model_module_version": "1.5.0",
            "_view_count": null,
            "disabled": false,
            "_view_module_version": "1.5.0",
            "description_tooltip": null,
            "_model_module": "@jupyter-widgets/controls",
            "layout": "IPY_MODEL_988dbaf41fe5466694483fed5580bdf0"
          }
        },
        "7a81f3d0027e4c10915eba4c10c55b36": {
          "model_module": "@jupyter-widgets/controls",
          "model_name": "DescriptionStyleModel",
          "state": {
            "_view_name": "StyleView",
            "_model_name": "DescriptionStyleModel",
            "description_width": "",
            "_view_module": "@jupyter-widgets/base",
            "_model_module_version": "1.5.0",
            "_view_count": null,
            "_view_module_version": "1.2.0",
            "_model_module": "@jupyter-widgets/controls"
          }
        },
        "988dbaf41fe5466694483fed5580bdf0": {
          "model_module": "@jupyter-widgets/base",
          "model_name": "LayoutModel",
          "state": {
            "_view_name": "LayoutView",
            "grid_template_rows": null,
            "right": null,
            "justify_content": null,
            "_view_module": "@jupyter-widgets/base",
            "overflow": null,
            "_model_module_version": "1.2.0",
            "_view_count": null,
            "flex_flow": null,
            "width": null,
            "min_width": null,
            "border": null,
            "align_items": null,
            "bottom": null,
            "_model_module": "@jupyter-widgets/base",
            "top": null,
            "grid_column": null,
            "overflow_y": null,
            "overflow_x": null,
            "grid_auto_flow": null,
            "grid_area": null,
            "grid_template_columns": null,
            "flex": null,
            "_model_name": "LayoutModel",
            "justify_items": null,
            "grid_row": null,
            "max_height": null,
            "align_content": null,
            "visibility": null,
            "align_self": null,
            "height": null,
            "min_height": null,
            "padding": null,
            "grid_auto_rows": null,
            "grid_gap": null,
            "max_width": null,
            "order": null,
            "_view_module_version": "1.2.0",
            "grid_template_areas": null,
            "object_position": null,
            "object_fit": null,
            "grid_auto_columns": null,
            "margin": null,
            "display": null,
            "left": null
          }
        }
      }
    }
  },
  "cells": [
    {
      "cell_type": "markdown",
      "metadata": {
        "id": "YwZPoF9W3oOG"
      },
      "source": [
        "# Armazenamento no drive"
      ]
    },
    {
      "cell_type": "code",
      "metadata": {
        "id": "7T0UvYQCkEV9",
        "colab": {
          "base_uri": "https://localhost:8080/"
        },
        "outputId": "c919863a-2dd4-4e38-d6b4-01604a72898a"
      },
      "source": [
        "# Preparando o ambiente no Google Drive:\n",
        "\n",
        "# Importando a biblioteca\n",
        "from google.colab import drive\n",
        "\n",
        "# Isso irá pedir sua autorização\n",
        "drive.mount('/content/drive')\n",
        "\n",
        "# Agora, seu Drive estará disponível em: /content/drive/My Drive"
      ],
      "execution_count": 1,
      "outputs": [
        {
          "output_type": "stream",
          "text": [
            "Mounted at /content/drive\n"
          ],
          "name": "stdout"
        }
      ]
    },
    {
      "cell_type": "markdown",
      "metadata": {
        "id": "ZOZTdjeoDTSo"
      },
      "source": [
        "# Importação das bibliotecas"
      ]
    },
    {
      "cell_type": "code",
      "metadata": {
        "id": "MjkkAklRDRej",
        "colab": {
          "base_uri": "https://localhost:8080/"
        },
        "outputId": "29609f83-b32d-4e9c-fe3f-529e2e6da8f6"
      },
      "source": [
        "# Biblioteca para mapa\n",
        "import folium\n",
        "from folium import plugins\n",
        "\n",
        "# Biblioteca para conexao com o banco de dados\n",
        "import psycopg2\n",
        "# psycopg2.extensions.register_type(psycopg2.extensions.UNICODE)\n",
        "# psycopg2.extensions.register_type(psycopg2.extensions.UNICODEARRAY)\n",
        "\n",
        "# Biblioteca para os dados em geojson\n",
        "import json\n",
        "\n",
        "# Bibliotecas dos widgets\n",
        "from ipywidgets import interact, interactive, fixed, interact_manual\n",
        "import ipywidgets as widgets\n",
        "from IPython.display import display\n",
        "from ipywidgets import AppLayout\n",
        "from ipywidgets import Layout, VBox, Label\n",
        "\n",
        "# import sys\n",
        "#reload(sys)\n",
        "#sys.setdefaultencoding(\"utf-8\")\n",
        "\n",
        "# Biblioteca de mediacao dos parametros de conexao do banco de dados\n",
        "from configparser import ConfigParser\n",
        "\n",
        "# Biblioteca para fazer a classificao de quebras naturais nos dados\n",
        "# Instalando biblioteca para fazer quebras naturais\n",
        "!pip install jenkspy\n",
        "\n",
        "# Biblioteca para plotar gráfico das classes encontradas pelo jenkspy\n",
        "import matplotlib.pyplot as plt"
      ],
      "execution_count": 2,
      "outputs": [
        {
          "output_type": "stream",
          "text": [
            "/usr/local/lib/python3.7/dist-packages/psycopg2/__init__.py:144: UserWarning: The psycopg2 wheel package will be renamed from release 2.8; in order to keep installing from binary please use \"pip install psycopg2-binary\" instead. For details see: <http://initd.org/psycopg/docs/install.html#binary-install-from-pypi>.\n",
            "  \"\"\")\n"
          ],
          "name": "stderr"
        },
        {
          "output_type": "stream",
          "text": [
            "Collecting jenkspy\n",
            "\u001b[?25l  Downloading https://files.pythonhosted.org/packages/08/cc/ccc6d904b40b5c40a66f226a43e3815ff667d8c963421f2b0c928ad12d37/jenkspy-0.2.0.tar.gz (55kB)\n",
            "\r\u001b[K     |██████                          | 10kB 16.7MB/s eta 0:00:01\r\u001b[K     |███████████▉                    | 20kB 22.5MB/s eta 0:00:01\r\u001b[K     |█████████████████▊              | 30kB 11.6MB/s eta 0:00:01\r\u001b[K     |███████████████████████▋        | 40kB 8.8MB/s eta 0:00:01\r\u001b[K     |█████████████████████████████▌  | 51kB 5.6MB/s eta 0:00:01\r\u001b[K     |████████████████████████████████| 61kB 3.3MB/s \n",
            "\u001b[?25hBuilding wheels for collected packages: jenkspy\n",
            "  Building wheel for jenkspy (setup.py) ... \u001b[?25l\u001b[?25hdone\n",
            "  Created wheel for jenkspy: filename=jenkspy-0.2.0-cp37-cp37m-linux_x86_64.whl size=70357 sha256=1f43240ecd23de6671f72d9ad7297c2999c36b584e868701bee438919138a01f\n",
            "  Stored in directory: /root/.cache/pip/wheels/e5/ab/c7/449bc908636d689818fca058a9b530f61220b634a09597a69d\n",
            "Successfully built jenkspy\n",
            "Installing collected packages: jenkspy\n",
            "Successfully installed jenkspy-0.2.0\n"
          ],
          "name": "stdout"
        }
      ]
    },
    {
      "cell_type": "markdown",
      "metadata": {
        "id": "8hhbi1eYTFKK"
      },
      "source": [
        "# Conexão com o banco de dados"
      ]
    },
    {
      "cell_type": "code",
      "metadata": {
        "id": "_lrWMIAnSkaL"
      },
      "source": [
        "def config(filename='/content/drive/My Drive/Colab Notebooks/database_mapfor.ini', section='postgresql'):\n",
        "    # create a parser\n",
        "    parser = ConfigParser()\n",
        "    # read config file\n",
        "    parser.read(filename)\n",
        "\n",
        "    # get section, default to postgresql\n",
        "    db = {}\n",
        "    if parser.has_section(section):\n",
        "        params = parser.items(section)\n",
        "        for param in params:\n",
        "            db[param[0]] = param[1]\n",
        "    else:\n",
        "        raise Exception('Section {0} not found in the {1} file'.format(section, filename))\n",
        "\n",
        "    return db"
      ],
      "execution_count": 3,
      "outputs": []
    },
    {
      "cell_type": "code",
      "metadata": {
        "colab": {
          "base_uri": "https://localhost:8080/"
        },
        "id": "Obhq_86oTMnd",
        "outputId": "d63e0c81-e395-48fc-a424-eaa6cff35449"
      },
      "source": [
        "conn = None\n",
        "try:\n",
        "  # read connection parameters\n",
        "  params = config()\n",
        "  # connect to the PostgreSQL server\n",
        "  print('Connecting to the PostgreSQL database...')\n",
        "  conn = psycopg2.connect(**params)\n",
        "  # create a cursor\n",
        "  cursor = conn.cursor()\n",
        "  print ('Conexao realizada com sucesso')\n",
        "except (Exception, psycopg2.DatabaseError) as error:\n",
        "  print(error)\n",
        "  print ('Erro na conexao com o banco de dados')"
      ],
      "execution_count": 4,
      "outputs": [
        {
          "output_type": "stream",
          "text": [
            "Connecting to the PostgreSQL database...\n",
            "Conexao realizada com sucesso\n"
          ],
          "name": "stdout"
        }
      ]
    },
    {
      "cell_type": "markdown",
      "metadata": {
        "id": "2wgswJ0iFptN"
      },
      "source": [
        "# Consulta da quantidade de vagas por cursos de formação em educação\n"
      ]
    },
    {
      "cell_type": "code",
      "metadata": {
        "id": "ELMg5ve_R5AN",
        "colab": {
          "base_uri": "https://localhost:8080/",
          "height": 67,
          "referenced_widgets": [
            "0fd7e3f377d2403b86c175caaf9c2f8c",
            "67fe39b97b094f79823c46167c20be1d",
            "fa1733a4089449ff8ba55f80670d4fd0"
          ]
        },
        "outputId": "0a9a763c-d5f5-4772-9fd7-b33b90c57f32"
      },
      "source": [
        "# Combox com as formacoes especificas\n",
        "# Funcao para fazer a lista do comboBox \n",
        "def lista_ocde_area():\n",
        "  ocde_area = []\n",
        "  cursor.execute(\"\"\"SELECT cod_ocde_area, nm_ocde_area FROM cursos_emec WHERE nm_ocde_area_geral = 'Educaçao' GROUP BY  cod_ocde_area, nm_ocde_area ORDER BY nm_ocde_area ASC;\"\"\")\n",
        "  fet_list = cursor.fetchall()\n",
        "  conn.commit()\n",
        "  for nm_ocde_area, cod_ocde_area in fet_list:\n",
        "    ocde_area.append((cod_ocde_area, nm_ocde_area))\n",
        "  return ocde_area\n",
        "\n",
        "# Definindo dropbox\n",
        "print(\"Curso de formação na área de Educação\")\n",
        "drop_ocde = widgets.Dropdown(\n",
        "    options = lista_ocde_area())\n",
        "\n",
        "# Mostrando a caixa de escolha\n",
        "display(drop_ocde)"
      ],
      "execution_count": 5,
      "outputs": [
        {
          "output_type": "stream",
          "text": [
            "Curso de formação na área de Educação\n"
          ],
          "name": "stdout"
        },
        {
          "output_type": "display_data",
          "data": {
            "application/vnd.jupyter.widget-view+json": {
              "model_id": "0fd7e3f377d2403b86c175caaf9c2f8c",
              "version_minor": 0,
              "version_major": 2
            },
            "text/plain": [
              "Dropdown(options=(('Administraçao educacional', '142A01'), ('Formaçao de professor das séries iniciais do ensi…"
            ]
          },
          "metadata": {
            "tags": []
          }
        }
      ]
    },
    {
      "cell_type": "markdown",
      "metadata": {
        "id": "8gT7xaCtxsop"
      },
      "source": [
        "## Classificação dos dados em Quebras Naturais (Jenks)"
      ]
    },
    {
      "cell_type": "code",
      "metadata": {
        "id": "aw7gUTJRvBUY"
      },
      "source": [
        "import jenkspy\n",
        "nome_area = drop_ocde.value\n",
        "\n",
        "# Funcao para consultar a quantidade de vagas do curso escolhido no widget\n",
        "def lista_vagas():\n",
        "  qta_vagas_list = []\n",
        "  cursor.execute(\"\"\"SELECT sum(qta_vagas) as qta_vagas FROM cursos_emec, iesup WHERE cursos_emec.cod_ies = iesup.cod_ies AND cod_ocde_area_geral = 1 AND cod_ocde_area = '%s' GROUP BY iesup.cod_ies, cursos_emec.cod_ocde_area; \"\"\" %(nome_area))\n",
        "  fet_list = cursor.fetchall()\n",
        "  conn.commit()\n",
        "  for qta_vagas in fet_list:\n",
        "    qta_vagas_list.append(qta_vagas)\n",
        "  lis_vagas = [item for t in qta_vagas_list for item in t] \n",
        "  return lis_vagas\n",
        "\n",
        "# print(lista_vagas(),len(lista_vagas()))\n"
      ],
      "execution_count": 101,
      "outputs": []
    },
    {
      "cell_type": "code",
      "metadata": {
        "id": "EpKp4Za9uIJi",
        "colab": {
          "base_uri": "https://localhost:8080/"
        },
        "outputId": "7ec2a286-0cef-47c7-bf5b-0a29680602b3"
      },
      "source": [
        "# Conjunto de dados de entrada\n",
        "data = lista_vagas()\n",
        "\n",
        "if len(data) == 1:\n",
        "  breaks = data\n",
        "elif len(data) < 5:\n",
        "  nb_class = len(data)-1\n",
        "  breaks = jenkspy.jenks_breaks(data, nb_class)\n",
        "else:\n",
        "  nb_class = 5\n",
        "  breaks = jenkspy.jenks_breaks(data, nb_class)\n",
        "\n",
        "breaks"
      ],
      "execution_count": 102,
      "outputs": [
        {
          "output_type": "execute_result",
          "data": {
            "text/plain": [
              "[40.0, 545.0, 1500.0, 2500.0, 6000.0, 17000.0]"
            ]
          },
          "metadata": {
            "tags": []
          },
          "execution_count": 102
        }
      ]
    },
    {
      "cell_type": "code",
      "metadata": {
        "id": "M9MKbMHDwrkI",
        "colab": {
          "base_uri": "https://localhost:8080/",
          "height": 483
        },
        "outputId": "fd132b90-66ee-4f81-f806-6f1b4b12a130"
      },
      "source": [
        "# Plota as classes determinadas por quebras naturais\n",
        "plt.style.use('seaborn-pastel')\n",
        "\n",
        "%matplotlib inline\n",
        "plt.figure(figsize = (10,8))\n",
        "hist = plt.hist(data, bins=20, align='left', color='r')\n",
        "for b in breaks:\n",
        "    plt.vlines(b, ymin=0, ymax = max(hist[0]))"
      ],
      "execution_count": 103,
      "outputs": [
        {
          "output_type": "display_data",
          "data": {
            "image/png": "[encoded data removed]",
            "text/plain": [
              "<Figure size 720x576 with 1 Axes>"
            ]
          },
          "metadata": {
            "tags": [],
            "needs_background": "light"
          }
        }
      ]
    },
    {
      "cell_type": "markdown",
      "metadata": {
        "id": "C165ptVH81oD"
      },
      "source": [
        "# Consulta da porcentagem de professores formados com pós-graduação agrupados por escolas nos município\n"
      ]
    },
    {
      "cell_type": "code",
      "metadata": {
        "colab": {
          "base_uri": "https://localhost:8080/",
          "height": 113,
          "referenced_widgets": [
            "f0bf49a1313e4c719dc2b505661a18a2",
            "7a81f3d0027e4c10915eba4c10c55b36",
            "988dbaf41fe5466694483fed5580bdf0"
          ]
        },
        "id": "yRj10u0r9CVc",
        "outputId": "0bbdc0ab-4823-4cd7-e29a-9178a44aa5f4"
      },
      "source": [
        "# Widget para escolher qual agrupamento dos dados com relação a formação dos proessores em pós-graduação\n",
        "agrup_form = widgets.RadioButtons(\n",
        "    options=['Todas', 'Municipais', 'Estaduais'],\n",
        "    value='Todas',\n",
        "    description='Escolas:',\n",
        "    disabled=False\n",
        ")\n",
        "display(agrup_form)"
      ],
      "execution_count": 104,
      "outputs": [
        {
          "output_type": "display_data",
          "data": {
            "application/vnd.jupyter.widget-view+json": {
              "model_id": "f0bf49a1313e4c719dc2b505661a18a2",
              "version_minor": 0,
              "version_major": 2
            },
            "text/plain": [
              "RadioButtons(description='Escolas:', options=('Todas', 'Municipais', 'Estaduais'), value='Todas')"
            ]
          },
          "metadata": {
            "tags": []
          }
        }
      ]
    },
    {
      "cell_type": "code",
      "metadata": {
        "id": "wrdjoL6N-Rci"
      },
      "source": [
        "nivel_form = agrup_form.value\n",
        "\n",
        "if nivel_form == 'Todas':\n",
        "  # consulta para classificar os municipios com relacao ao total de escolas\n",
        "  nivel_form_geo = folium.WmsTileLayer(\n",
        "      url = 'https://200.17.225.171/geoserver/mapfor/wms', \n",
        "      layers = 'mapfor:mun_total_prof',  \n",
        "      fmt='image/png',\n",
        "      transparent=True,\n",
        "      version='1.1.1',\n",
        "      name = 'Porcentagem de professores com pos graduacao - Total',\n",
        "      attr = 'INEP',\n",
        "      overlay=True,\n",
        "      control=True,\n",
        "      show=True)\n",
        "elif nivel_form == 'Municipais':\n",
        "  # consulta para classificar os municipios com relacao as escolas municipais\n",
        "  nivel_form_geo = folium.WmsTileLayer(\n",
        "      url = 'https://200.17.225.171/geoserver/mapfor/wms', \n",
        "      layers = 'mapfor:mun_mun_prof',  \n",
        "      fmt='image/png',\n",
        "      transparent=True,\n",
        "      version='1.1.1',\n",
        "      name = 'Porcentagem de professores com pos graduacao - Escolas Municipais',\n",
        "      attr = 'INEP',\n",
        "      overlay=True,\n",
        "      control=True,\n",
        "      show=True)\n",
        "else:\n",
        "  # consulta para classificar os municipios com relacao as escolas estaduais\n",
        "  nivel_form_geo = folium.WmsTileLayer(\n",
        "      url = 'https://200.17.225.171/geoserver/mapfor/wms', \n",
        "      layers = 'mapfor:mun_est_prof',  \n",
        "      fmt='image/png',\n",
        "      transparent=True,\n",
        "      version='1.1.1',\n",
        "      name = 'Porcentagem de professores com pos graduacao - Escolas Estaduais',\n",
        "      attr = 'INEP',\n",
        "      overlay=True,\n",
        "      control=True,\n",
        "      show=True)"
      ],
      "execution_count": 105,
      "outputs": []
    },
    {
      "cell_type": "markdown",
      "metadata": {
        "id": "wKht1Whfx2sH"
      },
      "source": [
        "## Mapa"
      ]
    },
    {
      "cell_type": "code",
      "metadata": {
        "id": "1KE4m-7yYhIl"
      },
      "source": [
        "# Consultando os dados espaciais do curso escolhido no widget\n",
        "cursor.execute(\"\"\"CREATE OR REPLACE VIEW vagas_cursos_ocde AS SELECT iesup.cod_ies, sum(qta_vagas) as qta_vagas, iesup.geom, cod_ocde_area FROM cursos_emec, iesup \n",
        "WHERE cursos_emec.cod_ies = iesup.cod_ies AND nm_ocde_area_geral = 'Educaçao' AND cod_ocde_area = '%s'\n",
        "GROUP BY iesup.cod_ies, iesup.geom, cursos_emec.cod_ocde_area; \"\"\" %(nome_area))\n",
        "conn.commit()\n",
        "# cursor.close()\n",
        "# conn.close()"
      ],
      "execution_count": 106,
      "outputs": []
    },
    {
      "cell_type": "code",
      "metadata": {
        "id": "NvXwf8KcAwEh"
      },
      "source": [
        "classes = breaks\n",
        "\n",
        "# Funcao que testa quantas classes tem os dados que o usuario escolheu e determina a url que será passada para o geoserver, para que o dado seja classificado conforme as classes calculadas para cada dado.\n",
        "def num_class_url():\n",
        "  if len(classes) == 1:\n",
        "    url = 'https://200.17.225.171/geoserver/mapfor/wms?request=GetMap&env=inicial1:%s' %(classes[0])\n",
        "  elif len(classes) == 2:\n",
        "    url = 'https://200.17.225.171/geoserver/mapfor/wms?request=GetMap&env=inicial1:%s;final1:%s;inicial2:%s;final2:%s' %(classes[0], classes[1])\n",
        "  elif len(classes) == 3:\n",
        "    url = 'https://200.17.225.171/geoserver/mapfor/wms?request=GetMap&env=inicial1:%s;final1:%s;inicial2:%s;final2:%s;inicial3:%s;final3:%s' %(classes[0], classes[1], classes[1], classes[2])\n",
        "  elif len(classes) == 4:\n",
        "    url = 'https://200.17.225.171/geoserver/mapfor/wms?request=GetMap&env=inicial1:%s;final1:%s;inicial1:%s;final2:%s;inicial3:%s;final3:%s;inicial4:%s;final4:%s' %(classes[0], classes[1], classes[1], classes[2], classes[2], classes[3], classes[3], classes[4], classes[4])\n",
        "  else:\n",
        "    url = 'https://200.17.225.171/geoserver/mapfor/wms?request=GetMap&env=inicial1:%s;final1:%s;inicial1:%s;final2:%s;inicial3:%s;final3:%s;inicial4:%s;final4:%s;inicial5:%s;final5:%s' %(classes[0], classes[1], classes[1], classes[2], classes[2], classes[3], classes[3], classes[4], classes[4], classes[5])\n",
        "  return url"
      ],
      "execution_count": 107,
      "outputs": []
    },
    {
      "cell_type": "code",
      "metadata": {
        "id": "vLRwiEWxwJDU",
        "colab": {
          "base_uri": "https://localhost:8080/",
          "height": 712
        },
        "outputId": "9fe3de4c-e9df-4c8e-d8ec-81c3c8c45f93"
      },
      "source": [
        "nome_area = drop_ocde.value\n",
        "\n",
        "m = folium.Map(location = [-24.647,-51.578],\n",
        "               height = '90%',\n",
        "               zoom_start = 8,\n",
        "               tiles = 'OpenStreetMap',\n",
        "               attr = '© contribuidores do OpenStreetMap (CC BY-SA 2.0)')\n",
        "\n",
        "# Número de professores formados po municipios do parana conforme agrupamento escolhido pelo widget\n",
        "nivel_form_geo.add_to(m)\n",
        "\n",
        "# Regionais de Educação\n",
        "folium.WmsTileLayer(\n",
        "    url = 'https://200.17.225.171/geoserver/mapfor/wms', \n",
        "    layers = 'mapfor:NRE_pr',  \n",
        "    fmt='image/png', \n",
        "    transparent=True, \n",
        "    version='1.1.1', \n",
        "    name = 'Nucleos Regionais de Educação',\n",
        "    attr='SEED',\n",
        "    overlay=True, \n",
        "    control=True, \n",
        "    show=True).add_to(m)\n",
        "\n",
        "# IES classificadas com relacao ao número de vagas por curso de formação\n",
        "folium.WmsTileLayer(\n",
        "  url = num_class_url(), \n",
        "  layers = 'mapfor:vagas_cursos_ocde',  \n",
        "  fmt='image/png', \n",
        "  transparent=True, \n",
        "  version='1.1.1', \n",
        "  name = 'Vagas em %s'%drop_ocde.label,\n",
        "  attr = 'INEP',\n",
        "  overlay=True, \n",
        "  control=True, \n",
        "  show=True).add_to(m)\n",
        "\n",
        "folium.LayerControl().add_to(m)\n",
        "m"
      ],
      "execution_count": 108,
      "outputs": [
        {
          "output_type": "execute_result",
          "data": {
            "text/html": [
              "<div style=\"width:100%;\"><div style=\"position:relative;width:100%;height:0;padding-bottom:60%;\"><span style=\"color:#565656\">Make this Notebook Trusted to load map: File -> Trust Notebook</span><iframe src=\"about:blank\" style=\"position:absolute;width:100%;height:100%;left:0;top:0;border:none !important;\" data-html=%3C%21DOCTYPE%20html%3E%0A%3Chead%3E%20%20%20%20%0A%20%20%20%20%3Cmeta%20http-equiv%3D%22content-type%22%20content%3D%22text/html%3B%20charset%3DUTF-8%22%20/%3E%0A%20%20%20%20%3Cscript%3EL_PREFER_CANVAS%3Dfalse%3B%20L_NO_TOUCH%3Dfalse%3B%20L_DISABLE_3D%3Dfalse%3B%3C/script%3E%0A%20%20%20%20%3Cscript%20src%3D%22https%3A//cdn.jsdelivr.net/npm/leaflet%401.4.0/dist/leaflet.js%22%3E%3C/script%3E%0A%20%20%20%20%3Cscript%20src%3D%22https%3A//code.jquery.com/jquery-1.12.4.min.js%22%3E%3C/script%3E%0A%20%20%20%20%3Cscript%20src%3D%22https%3A//maxcdn.bootstrapcdn.com/bootstrap/3.2.0/js/bootstrap.min.js%22%3E%3C/script%3E%0A%20%20%20%20%3Cscript%20src%3D%22https%3A//cdnjs.cloudflare.com/ajax/libs/Leaflet.awesome-markers/2.0.2/leaflet.awesome-markers.js%22%3E%3C/script%3E%0A%20%20%20%20%3Clink%20rel%3D%22stylesheet%22%20href%3D%22https%3A//cdn.jsdelivr.net/npm/leaflet%401.4.0/dist/leaflet.css%22/%3E%0A%20%20%20%20%3Clink%20rel%3D%22stylesheet%22%20href%3D%22https%3A//maxcdn.bootstrapcdn.com/bootstrap/3.2.0/css/bootstrap.min.css%22/%3E%0A%20%20%20%20%3Clink%20rel%3D%22stylesheet%22%20href%3D%22https%3A//maxcdn.bootstrapcdn.com/bootstrap/3.2.0/css/bootstrap-theme.min.css%22/%3E%0A%20%20%20%20%3Clink%20rel%3D%22stylesheet%22%20href%3D%22https%3A//maxcdn.bootstrapcdn.com/font-awesome/4.6.3/css/font-awesome.min.css%22/%3E%0A%20%20%20%20%3Clink%20rel%3D%22stylesheet%22%20href%3D%22https%3A//cdnjs.cloudflare.com/ajax/libs/Leaflet.awesome-markers/2.0.2/leaflet.awesome-markers.css%22/%3E%0A%20%20%20%20%3Clink%20rel%3D%22stylesheet%22%20href%3D%22https%3A//rawcdn.githack.com/python-visualization/folium/master/folium/templates/leaflet.awesome.rotate.css%22/%3E%0A%20%20%20%20%3Cstyle%3Ehtml%2C%20body%20%7Bwidth%3A%20100%25%3Bheight%3A%20100%25%3Bmargin%3A%200%3Bpadding%3A%200%3B%7D%3C/style%3E%0A%20%20%20%20%3Cstyle%3E%23map%20%7Bposition%3Aabsolute%3Btop%3A0%3Bbottom%3A0%3Bright%3A0%3Bleft%3A0%3B%7D%3C/style%3E%0A%20%20%20%20%0A%20%20%20%20%3Cmeta%20name%3D%22viewport%22%20content%3D%22width%3Ddevice-width%2C%0A%20%20%20%20%20%20%20%20initial-scale%3D1.0%2C%20maximum-scale%3D1.0%2C%20user-scalable%3Dno%22%20/%3E%0A%20%20%20%20%3Cstyle%3E%23map_39ff335680384468ba141e04edbec12f%20%7B%0A%20%20%20%20%20%20%20%20position%3A%20relative%3B%0A%20%20%20%20%20%20%20%20width%3A%20100.0%25%3B%0A%20%20%20%20%20%20%20%20height%3A%2090.0%25%3B%0A%20%20%20%20%20%20%20%20left%3A%200.0%25%3B%0A%20%20%20%20%20%20%20%20top%3A%200.0%25%3B%0A%20%20%20%20%20%20%20%20%7D%0A%20%20%20%20%3C/style%3E%0A%3C/head%3E%0A%3Cbody%3E%20%20%20%20%0A%20%20%20%20%0A%20%20%20%20%3Cdiv%20class%3D%22folium-map%22%20id%3D%22map_39ff335680384468ba141e04edbec12f%22%20%3E%3C/div%3E%0A%3C/body%3E%0A%3Cscript%3E%20%20%20%20%0A%20%20%20%20%0A%20%20%20%20%0A%20%20%20%20%20%20%20%20var%20bounds%20%3D%20null%3B%0A%20%20%20%20%0A%0A%20%20%20%20var%20map_39ff335680384468ba141e04edbec12f%20%3D%20L.map%28%0A%20%20%20%20%20%20%20%20%27map_39ff335680384468ba141e04edbec12f%27%2C%20%7B%0A%20%20%20%20%20%20%20%20center%3A%20%5B-24.647%2C%20-51.578%5D%2C%0A%20%20%20%20%20%20%20%20zoom%3A%208%2C%0A%20%20%20%20%20%20%20%20maxBounds%3A%20bounds%2C%0A%20%20%20%20%20%20%20%20layers%3A%20%5B%5D%2C%0A%20%20%20%20%20%20%20%20worldCopyJump%3A%20false%2C%0A%20%20%20%20%20%20%20%20crs%3A%20L.CRS.EPSG3857%2C%0A%20%20%20%20%20%20%20%20zoomControl%3A%20true%2C%0A%20%20%20%20%20%20%20%20%7D%29%3B%0A%0A%0A%20%20%20%20%0A%20%20%20%20var%20tile_layer_e3bb53216d004db8aa036c8ff2607e0d%20%3D%20L.tileLayer%28%0A%20%20%20%20%20%20%20%20%27https%3A//%7Bs%7D.tile.openstreetmap.org/%7Bz%7D/%7Bx%7D/%7By%7D.png%27%2C%0A%20%20%20%20%20%20%20%20%7B%0A%20%20%20%20%20%20%20%20%22attribution%22%3A%20%22%5Cu00a9%20contribuidores%20do%20OpenStreetMap%20%28CC%20BY-SA%202.0%29%22%2C%0A%20%20%20%20%20%20%20%20%22detectRetina%22%3A%20false%2C%0A%20%20%20%20%20%20%20%20%22maxNativeZoom%22%3A%2018%2C%0A%20%20%20%20%20%20%20%20%22maxZoom%22%3A%2018%2C%0A%20%20%20%20%20%20%20%20%22minZoom%22%3A%200%2C%0A%20%20%20%20%20%20%20%20%22noWrap%22%3A%20false%2C%0A%20%20%20%20%20%20%20%20%22opacity%22%3A%201%2C%0A%20%20%20%20%20%20%20%20%22subdomains%22%3A%20%22abc%22%2C%0A%20%20%20%20%20%20%20%20%22tms%22%3A%20false%0A%7D%29.addTo%28map_39ff335680384468ba141e04edbec12f%29%3B%0A%20%20%20%20%0A%20%20%20%20%20%20%20%20%20%20%20%20var%20macro_element_8a9ce595bf6c4f0d9a3b1f4ec185db10%20%3D%20L.tileLayer.wms%28%0A%20%20%20%20%20%20%20%20%20%20%20%20%20%20%20%20%27https%3A//200.17.225.171/geoserver/mapfor/wms%27%2C%0A%20%20%20%20%20%20%20%20%20%20%20%20%20%20%20%20%7B%0A%20%20%22attribution%22%3A%20%22INEP%22%2C%0A%20%20%22format%22%3A%20%22image/png%22%2C%0A%20%20%22layers%22%3A%20%22mapfor%3Amun_total_prof%22%2C%0A%20%20%22styles%22%3A%20%22%22%2C%0A%20%20%22transparent%22%3A%20true%2C%0A%20%20%22version%22%3A%20%221.1.1%22%0A%7D%0A%20%20%20%20%20%20%20%20%20%20%20%20%20%20%20%20%29.addTo%28map_39ff335680384468ba141e04edbec12f%29%3B%0A%0A%20%20%20%20%20%20%20%20%0A%20%20%20%20%0A%20%20%20%20%20%20%20%20%20%20%20%20var%20macro_element_b370318e596845d09934fe0f35f81de4%20%3D%20L.tileLayer.wms%28%0A%20%20%20%20%20%20%20%20%20%20%20%20%20%20%20%20%27https%3A//200.17.225.171/geoserver/mapfor/wms%27%2C%0A%20%20%20%20%20%20%20%20%20%20%20%20%20%20%20%20%7B%0A%20%20%22attribution%22%3A%20%22SEED%22%2C%0A%20%20%22format%22%3A%20%22image/png%22%2C%0A%20%20%22layers%22%3A%20%22mapfor%3ANRE_pr%22%2C%0A%20%20%22styles%22%3A%20%22%22%2C%0A%20%20%22transparent%22%3A%20true%2C%0A%20%20%22version%22%3A%20%221.1.1%22%0A%7D%0A%20%20%20%20%20%20%20%20%20%20%20%20%20%20%20%20%29.addTo%28map_39ff335680384468ba141e04edbec12f%29%3B%0A%0A%20%20%20%20%20%20%20%20%0A%20%20%20%20%0A%20%20%20%20%20%20%20%20%20%20%20%20var%20macro_element_2faacd1d4bf64942b77a8329048f146b%20%3D%20L.tileLayer.wms%28%0A%20%20%20%20%20%20%20%20%20%20%20%20%20%20%20%20%27https%3A//200.17.225.171/geoserver/mapfor/wms%3Frequest%3DGetMap%26env%3Dinicial1%3A40.0%3Bfinal1%3A545.0%3Binicial1%3A545.0%3Bfinal2%3A1500.0%3Binicial3%3A1500.0%3Bfinal3%3A2500.0%3Binicial4%3A2500.0%3Bfinal4%3A6000.0%3Binicial5%3A6000.0%3Bfinal5%3A17000.0%27%2C%0A%20%20%20%20%20%20%20%20%20%20%20%20%20%20%20%20%7B%0A%20%20%22attribution%22%3A%20%22INEP%22%2C%0A%20%20%22format%22%3A%20%22image/png%22%2C%0A%20%20%22layers%22%3A%20%22mapfor%3Avagas_cursos_ocde%22%2C%0A%20%20%22styles%22%3A%20%22%22%2C%0A%20%20%22transparent%22%3A%20true%2C%0A%20%20%22version%22%3A%20%221.1.1%22%0A%7D%0A%20%20%20%20%20%20%20%20%20%20%20%20%20%20%20%20%29.addTo%28map_39ff335680384468ba141e04edbec12f%29%3B%0A%0A%20%20%20%20%20%20%20%20%0A%20%20%20%20%0A%20%20%20%20%20%20%20%20%20%20%20%20var%20layer_control_12cd6e033e0b470daaa717dfee079bf4%20%3D%20%7B%0A%20%20%20%20%20%20%20%20%20%20%20%20%20%20%20%20base_layers%20%3A%20%7B%20%22openstreetmap%22%20%3A%20tile_layer_e3bb53216d004db8aa036c8ff2607e0d%2C%20%7D%2C%0A%20%20%20%20%20%20%20%20%20%20%20%20%20%20%20%20overlays%20%3A%20%7B%20%22Porcentagem%20de%20professores%20com%20pos%20graduacao%20-%20Total%22%20%3A%20macro_element_8a9ce595bf6c4f0d9a3b1f4ec185db10%2C%22Nucleos%20Regionais%20de%20Educa%C3%A7%C3%A3o%22%20%3A%20macro_element_b370318e596845d09934fe0f35f81de4%2C%22Vagas%20em%20Forma%C3%A7ao%20de%20professor%20de%20geografia%22%20%3A%20macro_element_2faacd1d4bf64942b77a8329048f146b%2C%20%7D%0A%20%20%20%20%20%20%20%20%20%20%20%20%20%20%20%20%7D%3B%0A%20%20%20%20%20%20%20%20%20%20%20%20L.control.layers%28%0A%20%20%20%20%20%20%20%20%20%20%20%20%20%20%20%20layer_control_12cd6e033e0b470daaa717dfee079bf4.base_layers%2C%0A%20%20%20%20%20%20%20%20%20%20%20%20%20%20%20%20layer_control_12cd6e033e0b470daaa717dfee079bf4.overlays%2C%0A%20%20%20%20%20%20%20%20%20%20%20%20%20%20%20%20%7Bposition%3A%20%27topright%27%2C%0A%20%20%20%20%20%20%20%20%20%20%20%20%20%20%20%20%20collapsed%3A%20true%2C%0A%20%20%20%20%20%20%20%20%20%20%20%20%20%20%20%20%20autoZIndex%3A%20true%0A%20%20%20%20%20%20%20%20%20%20%20%20%20%20%20%20%7D%29.addTo%28map_39ff335680384468ba141e04edbec12f%29%3B%0A%20%20%20%20%20%20%20%20%20%20%20%20%0A%20%20%20%20%20%20%20%20%0A%3C/script%3E onload=\"this.contentDocument.open();this.contentDocument.write(    decodeURIComponent(this.getAttribute('data-html')));this.contentDocument.close();\" allowfullscreen webkitallowfullscreen mozallowfullscreen></iframe></div></div>"
            ],
            "text/plain": [
              "<folium.folium.Map at 0x7f1b34cb3d50>"
            ]
          },
          "metadata": {
            "tags": []
          },
          "execution_count": 108
        }
      ]
    }
  ]
}